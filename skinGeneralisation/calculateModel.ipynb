{
 "cells": [
  {
   "cell_type": "code",
   "execution_count": 1,
   "metadata": {},
   "outputs": [],
   "source": [
    "from keras_flops import get_flops\n",
    "import tensorflow as tf\n",
    "from tensorflow.keras.models import Model\n",
    "from tensorflow.keras.models import Sequential\n",
    "from tensorflow.keras.layers import Dense, Activation, Dropout, InputLayer, Flatten, Input, GaussianNoise"
   ]
  },
  {
   "cell_type": "code",
   "execution_count": 2,
   "metadata": {},
   "outputs": [
    {
     "name": "stdout",
     "output_type": "stream",
     "text": [
      "['x_test.npy', 'x_testFeatures.npy', 'x_train.npy', 'x_trainFeatures.npy', 'y_test.npy', 'y_train.npy']\n"
     ]
    }
   ],
   "source": [
    "import os\n",
    "import numpy as np\n",
    "base_path = os.path.abspath(\"./\")\n",
    "dataset_path = os.path.join(base_path, \"dataset\", \"isic2016numpy\")\n",
    "model_path = os.path.join(base_path, \"models\")\n",
    "print(os.listdir(dataset_path))\n",
    "x_train = np.load(\"{}/x_trainFeatures.npy\".format(dataset_path)) "
   ]
  },
  {
   "cell_type": "code",
   "execution_count": 3,
   "metadata": {},
   "outputs": [
    {
     "data": {
      "text/plain": [
       "(512,)"
      ]
     },
     "execution_count": 3,
     "metadata": {},
     "output_type": "execute_result"
    }
   ],
   "source": [
    "x_train.shape[1:]"
   ]
  },
  {
   "cell_type": "code",
   "execution_count": 4,
   "metadata": {},
   "outputs": [],
   "source": [
    "def construct_network_old(dropout=0.17500000000000002, neuronPct=0.9530203204476114, neuronShrink=0.3093560158860596):\n",
    "    neuronCount = int(neuronPct * 5000)\n",
    "    neuronCount = neuronCount * neuronShrink\n",
    "    model = Sequential()\n",
    "    model.add(Flatten(input_shape=x_train.shape[1:]))\n",
    "    #model.add(Input(shape=(1,512)))\n",
    "    #model.add(Flatten())\n",
    "    model.add(Dense(neuronCount))\n",
    "    model.add(Activation('relu'))\n",
    "    model.add(Dropout(dropout))\n",
    "    model.add(Dense(2, activation='sigmoid')) # Output\n",
    "    return model"
   ]
  },
  {
   "cell_type": "code",
   "execution_count": 5,
   "metadata": {},
   "outputs": [],
   "source": [
    "def construct_network(dropout=0.17500000000000002, neuronPct=0.9530203204476114, neuronShrink=0.3093560158860596):\n",
    "    neuronCount = int(neuronPct * 5000)\n",
    "    neuronCount = neuronCount * neuronShrink\n",
    "    model = Sequential()\n",
    "    model.add(Flatten(input_shape=(512,)))\n",
    "    #model.add(Input(shape=(1,512)))\n",
    "    #model.add(Flatten())\n",
    "    model.add(Dense(neuronCount))\n",
    "    model.add(Activation('relu'))\n",
    "    model.add(Dropout(dropout))\n",
    "    model.add(Dense(2, activation='sigmoid')) # Output\n",
    "    return model"
   ]
  },
  {
   "cell_type": "code",
   "execution_count": 6,
   "metadata": {},
   "outputs": [],
   "source": [
    "model = construct_network()"
   ]
  },
  {
   "cell_type": "code",
   "execution_count": 7,
   "metadata": {},
   "outputs": [
    {
     "name": "stdout",
     "output_type": "stream",
     "text": [
      "Model: \"sequential\"\n",
      "_________________________________________________________________\n",
      "Layer (type)                 Output Shape              Param #   \n",
      "=================================================================\n",
      "flatten (Flatten)            (None, 512)               0         \n",
      "_________________________________________________________________\n",
      "dense (Dense)                (None, 1474)              756162    \n",
      "_________________________________________________________________\n",
      "activation (Activation)      (None, 1474)              0         \n",
      "_________________________________________________________________\n",
      "dropout (Dropout)            (None, 1474)              0         \n",
      "_________________________________________________________________\n",
      "dense_1 (Dense)              (None, 2)                 2950      \n",
      "=================================================================\n",
      "Total params: 759,112\n",
      "Trainable params: 759,112\n",
      "Non-trainable params: 0\n",
      "_________________________________________________________________\n"
     ]
    }
   ],
   "source": [
    "model.summary()"
   ]
  },
  {
   "cell_type": "code",
   "execution_count": 8,
   "metadata": {},
   "outputs": [
    {
     "name": "stdout",
     "output_type": "stream",
     "text": [
      "WARNING:tensorflow:From C:\\Users\\bayuo\\.conda\\envs\\keras_tuner\\lib\\site-packages\\tensorflow\\python\\ops\\math_ops.py:3777: tensor_shape_from_node_def_name (from tensorflow.python.framework.graph_util_impl) is deprecated and will be removed in a future version.\n",
      "Instructions for updating:\n",
      "Use `tf.compat.v1.graph_util.tensor_shape_from_node_def_name`\n"
     ]
    }
   ],
   "source": [
    "flops = get_flops(model, batch_size=1)\n"
   ]
  },
  {
   "cell_type": "code",
   "execution_count": 9,
   "metadata": {},
   "outputs": [
    {
     "name": "stdout",
     "output_type": "stream",
     "text": [
      "FLOPS: 1.52 M\n"
     ]
    }
   ],
   "source": [
    "print(f\"FLOPS: {flops / 10 ** 6:.03} M\")"
   ]
  }
 ],
 "metadata": {
  "kernelspec": {
   "display_name": "Python 3",
   "language": "python",
   "name": "python3"
  },
  "language_info": {
   "codemirror_mode": {
    "name": "ipython",
    "version": 3
   },
   "file_extension": ".py",
   "mimetype": "text/x-python",
   "name": "python",
   "nbconvert_exporter": "python",
   "pygments_lexer": "ipython3",
   "version": "3.6.10"
  }
 },
 "nbformat": 4,
 "nbformat_minor": 4
}
